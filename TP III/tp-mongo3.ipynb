{
 "metadata": {
  "language_info": {
   "codemirror_mode": {
    "name": "ipython",
    "version": 3
   },
   "file_extension": ".py",
   "mimetype": "text/x-python",
   "name": "python",
   "nbconvert_exporter": "python",
   "pygments_lexer": "ipython3",
   "version": "3.8.5-final"
  },
  "orig_nbformat": 2,
  "kernelspec": {
   "name": "python3",
   "display_name": "Python 3.8.5 64-bit ('NoSQL': conda)",
   "metadata": {
    "interpreter": {
     "hash": "090436c60bbb93f4fdf6d32ada67dc128618de18407932537c4957891f17f04b"
    }
   }
  }
 },
 "nbformat": 4,
 "nbformat_minor": 2,
 "cells": [
  {
   "source": [
    "<h1>#####              Exercice  Aggréger des transactions         #####</h1>"
   ],
   "cell_type": "markdown",
   "metadata": {}
  },
  {
   "cell_type": "code",
   "execution_count": 21,
   "metadata": {},
   "outputs": [],
   "source": [
    "import pymongo\n",
    "import json"
   ]
  },
  {
   "source": [
    "<h2>Connexion à la DataBase</h2>"
   ],
   "cell_type": "markdown",
   "metadata": {}
  },
  {
   "cell_type": "code",
   "execution_count": 22,
   "metadata": {},
   "outputs": [],
   "source": [
    "try :\n",
    "    client = pymongo.MongoClient('mongodb://localhost:27017/')\n",
    "\n",
    "    db = client.db_agg\n",
    "    db.transactions.drop()\n",
    "\n",
    "    transactions = db.transactions\n",
    "except :\n",
    "    print(\"connexion error\")\n",
    "\n",
    "try :\n",
    "    with open('json/transactions.json') as json_data:\n",
    "        data = json.load(json_data)\n",
    "except :\n",
    "    print(\"impossible d'ouvrir les fichiers json\")\n",
    "\n",
    "try:\n",
    "    db.transactions.insert_many(data)\n",
    "except:\n",
    "    print(\"Insert many error\")\n",
    "\n"
   ]
  },
  {
   "cell_type": "code",
   "execution_count": 23,
   "metadata": {},
   "outputs": [
    {
     "output_type": "stream",
     "name": "stdout",
     "text": [
      "['transactions']\n"
     ]
    }
   ],
   "source": [
    "print(db.list_collection_names())"
   ]
  },
  {
   "source": [
    "<h2>Q-1. Calculer le montant total des paiements ?</h2>"
   ],
   "cell_type": "markdown",
   "metadata": {}
  },
  {
   "cell_type": "code",
   "execution_count": 69,
   "metadata": {},
   "outputs": [
    {
     "output_type": "stream",
     "name": "stdout",
     "text": [
      "{'_id': None, 'Total Payment': 1230}\n"
     ]
    }
   ],
   "source": [
    "TotalPayment = { \"$group\" : {\"_id\" : None, \"Total Payment\" : { \"$sum\" : \"$Payment.Total\" }} }\n",
    "for t in transactions.aggregate( [TotalPayment] ):\n",
    "    print(t)"
   ]
  },
  {
   "source": [
    "<h2>Q-2. Calculer le montant total par transactions (montant total du panier) ?</h2>"
   ],
   "cell_type": "markdown",
   "metadata": {}
  },
  {
   "cell_type": "code",
   "execution_count": null,
   "metadata": {},
   "outputs": [],
   "source": []
  },
  {
   "source": [
    "<h2>Q-3. Calculate total payments (Payment.Total) for each payment type (Payment.Type) ?</h2>"
   ],
   "cell_type": "markdown",
   "metadata": {}
  },
  {
   "cell_type": "code",
   "execution_count": 74,
   "metadata": {},
   "outputs": [
    {
     "output_type": "stream",
     "name": "stdout",
     "text": [
      "{'_id': 'Debit-Card', 'Total Payment': 410}\n{'_id': 'Credit-Card', 'Total Payment': 820}\n"
     ]
    }
   ],
   "source": [
    "matching = {\"$match\":{\"Payment\":{\"$ne\": None}}}\n",
    "TotalPayment = {\"$group\" : {\"_id\" : \"$Payment.Type\", \"Total Payment\" : { \"$sum\" : \"$Payment.Total\" }}}\n",
    "for t in transactions.aggregate( [matching,TotalPayment] ):\n",
    "    print(t)"
   ]
  },
  {
   "source": [
    "<h2>Q-4. Trouver l'Id le plus élevé.</h2>"
   ],
   "cell_type": "markdown",
   "metadata": {}
  },
  {
   "cell_type": "code",
   "execution_count": 72,
   "metadata": {},
   "outputs": [
    {
     "output_type": "stream",
     "name": "stdout",
     "text": [
      "{'_id': None, 'Id': 103}\n"
     ]
    }
   ],
   "source": [
    "pipeline ={\"$group\": { \"_id\" : None , \"Id\": {\"$max\": \"$Id\"} }}\n",
    "\n",
    "for t in transactions.aggregate([pipeline]):\n",
    "    print(t)"
   ]
  },
  {
   "source": [
    "<h2>Q-5. Find the max price (Transaction.price) ?</h2>"
   ],
   "cell_type": "markdown",
   "metadata": {}
  },
  {
   "cell_type": "code",
   "execution_count": 68,
   "metadata": {},
   "outputs": [
    {
     "output_type": "stream",
     "name": "stdout",
     "text": [
      "{'_id': None, 'max_price': 210}\n"
     ]
    }
   ],
   "source": [
    "destroyArray = { \"$unwind\" : '$Panier' }\n",
    "maxPrice = { \"$group\" : {\"_id\" : None , \"max_price\" : { \"$max\" : \"$Panier.price\" }} }\n",
    "for t in transactions.aggregate( [destroyArray, maxPrice] ):\n",
    "    print(t)"
   ]
  }
 ]
}